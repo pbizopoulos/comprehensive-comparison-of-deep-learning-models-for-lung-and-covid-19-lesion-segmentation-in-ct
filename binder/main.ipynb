{
 "cells": [
  {
   "cell_type": "code",
   "execution_count": null,
   "metadata": {},
   "outputs": [],
   "source": [
    "%matplotlib inline\n",
    "import io\n",
    "\n",
    "import numpy as np\n",
    "import torch\n",
    "from ipywidgets import interact\n",
    "from ipywidgets.widgets import Dropdown, FileUpload, Output\n",
    "from matplotlib import pyplot as plt\n",
    "from torchvision.transforms import functional as tf\n",
    "from PIL import Image\n",
    "plt.ion()"
   ]
  },
  {
   "cell_type": "code",
   "execution_count": null,
   "metadata": {},
   "outputs": [],
   "source": [
    "def preprocess(image):\n",
    "    if image.shape[0] in [1, 3]:\n",
    "        image = image[0]\n",
    "    elif image.shape[-1] in [1, 3]:\n",
    "        image = image[..., -1]\n",
    "    image = tf.to_pil_image(image)\n",
    "    image = tf.resize(image, [512, 512])\n",
    "    image = tf.to_tensor(image)\n",
    "    image = tf.normalize(image, image.mean(), image.std())\n",
    "    return image.unsqueeze(0)\n",
    "\n",
    "def predict(image, experiment_name, architecture_name, encoder, encoder_weights):\n",
    "    model = torch.hub.load('pbizopoulos/comprehensive-comparison-of-deep-learning-models-for-lung-and-covid-19-lesion-segmentation-in-ct', 'segmentation_model', experiment_name, architecture_name, encoder, encoder_weights)\n",
    "    model.eval()\n",
    "    preprocessed_image = preprocess(image)\n",
    "    prediction = model(preprocessed_image)\n",
    "    prediction = prediction[0, 0].detach().numpy()\n",
    "    prediction = prediction > 0.5\n",
    "    return prediction, preprocessed_image"
   ]
  },
  {
   "cell_type": "code",
   "execution_count": null,
   "metadata": {
    "scrolled": true
   },
   "outputs": [],
   "source": [
    "experiment_name_list = ['lung-segmentation', 'lesion-segmentation-a']\n",
    "architecture_name_list = ['Unet', 'Linknet', 'FPN', 'PSPNet']\n",
    "encoder_list = ['vgg11', 'vgg13', 'vgg19', 'resnet18', 'resnet34', 'resnet50', 'resnet101', 'resnet152', 'densenet121', 'densenet161', 'densenet169', 'densenet201', 'resnext50_32x4d', 'dpn68', 'dpn98', 'mobilenet_v2', 'xception', 'inceptionv4', 'efficientnet-b0', 'efficientnet-b1', 'efficientnet-b2', 'efficientnet-b3', 'efficientnet-b4', 'efficientnet-b5', 'efficientnet-b6']\n",
    "encoder_weights_list = [None, 'imagenet']\n",
    "\n",
    "output = Output()\n",
    "\n",
    "def predict_and_plot(image, experiment_name, architecture_name, encoder, encoder_weights):\n",
    "    if image:\n",
    "        for name, file_info in image.items():\n",
    "            image = Image.open(io.BytesIO(file_info['content']))\n",
    "    else:\n",
    "        image = Image.open('./covid-19-pneumonia-4.jpg')\n",
    "    image = np.asarray(image)\n",
    "    prediction, preprocessed_image = predict(image, experiment_name, architecture_name, encoder, encoder_weights)\n",
    "    with output:\n",
    "        output.clear_output(wait=True)\n",
    "        plt.subplot(121)\n",
    "        plt.imshow(preprocessed_image[0, 0], cmap='gray')\n",
    "        plt.subplot(122)\n",
    "        plt.imshow(preprocessed_image[0, 0], cmap='gray')\n",
    "        plt.imshow(prediction, cmap='Reds', alpha=0.5)\n",
    "        plt.show()\n",
    "p = interact(predict_and_plot, image=FileUpload(accept='image/*', multiple=False), experiment_name=Dropdown(options=experiment_name_list), architecture_name=Dropdown(options=architecture_name_list), encoder=Dropdown(options=encoder_list), encoder_weights=Dropdown(options=encoder_weights_list))\n",
    "display(output)"
   ]
  }
 ],
 "metadata": {
  "kernelspec": {
   "display_name": "Python 3",
   "language": "python",
   "name": "python3"
  },
  "language_info": {
   "codemirror_mode": {
    "name": "ipython",
    "version": 3
   },
   "file_extension": ".py",
   "mimetype": "text/x-python",
   "name": "python",
   "nbconvert_exporter": "python",
   "pygments_lexer": "ipython3",
   "version": "3.7.10"
  }
 },
 "nbformat": 4,
 "nbformat_minor": 4
}
